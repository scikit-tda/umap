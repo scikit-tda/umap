{
  "cells": [
    {
      "cell_type": "code",
      "execution_count": null,
      "metadata": {
        "collapsed": false
      },
      "outputs": [],
      "source": [
        "%matplotlib inline"
      ]
    },
    {
      "cell_type": "markdown",
      "metadata": {},
      "source": [
        "\nUMAP on the Fashion MNIST Digits dataset using Datashader\n---------------------------------------------------------\n\nThis is a simple example of using UMAP on the Fashion-MNIST\ndataset. The goal of this example is largely to demonstrate\nthe use of datashader as an effective tool for visualising\nUMAP results. In particular datashader allows visualisation\nof very large datasets where overplotting can be a serious\nproblem. It supports coloring by categorical variables\n(as shown in this example), or by continuous variables,\nor by density (as is common in datashader examples).\n\n"
      ]
    },
    {
      "cell_type": "code",
      "execution_count": null,
      "metadata": {
        "collapsed": false
      },
      "outputs": [],
      "source": [
        "import umap\nimport numpy as np\nimport pandas as pd\nimport requests\nimport os\nimport datashader as ds\nimport datashader.utils as utils\nimport datashader.transfer_functions as tf\nimport matplotlib.pyplot as plt\nimport seaborn as sns\n\nsns.set(context=\"paper\", style=\"white\")\n\nif not os.path.isfile('fashion-mnist.csv'):\n    csv_data = requests.get(\n        'https://www.openml.org/data/get_csv/18238735/phpnBqZGZ'\n    )\n    with open('fashion-mnist.csv', 'w') as f:\n        f.write(csv_data.text)\nsource_df = pd.read_csv('fashion-mnist.csv')\n\ndata = source_df.iloc[:, :784].values.astype(np.float32)\ntarget = source_df['class'].values\n\npal = [\n '#9e0142',\n '#d8434e',\n '#f67a49',\n '#fdbf6f',\n '#feeda1',\n '#f1f9a9',\n '#bfe5a0',\n '#74c7a5',\n '#378ebb',\n '#5e4fa2'\n]\ncolor_key = {str(d):c for d,c in enumerate(pal)}\n\nreducer = umap.UMAP(random_state=42)\nembedding = reducer.fit_transform(data)\n\ndf = pd.DataFrame(embedding, columns=('x', 'y'))\ndf['class'] = pd.Series([str(x) for x in target], dtype=\"category\")\n\ncvs = ds.Canvas(plot_width=400, plot_height=400)\nagg = cvs.points(df, 'x', 'y', ds.count_cat('class'))\nimg = tf.shade(agg, color_key=color_key, how='eq_hist')\n\nutils.export_image(img, filename='fashion-mnist', background='black')\n\nimage = plt.imread('fashion-mnist.png')\nfig, ax = plt.subplots(figsize=(6, 6))\nplt.imshow(image)\nplt.setp(ax, xticks=[], yticks=[])\nplt.title(\"Fashion MNIST data embedded\\n\"\n          \"into two dimensions by UMAP\\n\"\n          \"visualised with Datashader\",\n          fontsize=12)\n\nplt.show()"
      ]
    }
  ],
  "metadata": {
    "kernelspec": {
      "display_name": "Python 3",
      "language": "python",
      "name": "python3"
    },
    "language_info": {
      "codemirror_mode": {
        "name": "ipython",
        "version": 3
      },
      "file_extension": ".py",
      "mimetype": "text/x-python",
      "name": "python",
      "nbconvert_exporter": "python",
      "pygments_lexer": "ipython3",
      "version": "3.6.4"
    }
  },
  "nbformat": 4,
  "nbformat_minor": 0
}
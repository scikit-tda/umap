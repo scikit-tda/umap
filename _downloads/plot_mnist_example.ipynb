{
  "cells": [
    {
      "cell_type": "code",
      "execution_count": null,
      "metadata": {
        "collapsed": false
      },
      "outputs": [],
      "source": [
        "%matplotlib inline"
      ]
    },
    {
      "cell_type": "markdown",
      "metadata": {},
      "source": [
        "\nUMAP on the MNIST Digits dataset\n--------------------------------\n\nA simple example demonstrating how to use UMAP on a larger\ndataset such as MNIST. We first pull the MNIST dataset and\nthen use UMAP to reduce it to only 2-dimensions for\neasy visualisation.\n\nNote that UMAP manages to both group the individual digit\nclasses, but also to retain the overall global structure\namong the different digit classes -- keeping 1 far from\n0, and grouping triplets of 3,5,8 and 4,7,9 which can\nblend into one another in some cases.\n\n"
      ]
    },
    {
      "cell_type": "code",
      "execution_count": null,
      "metadata": {
        "collapsed": false
      },
      "outputs": [],
      "source": [
        "import umap\nfrom sklearn.datasets import fetch_mldata\nimport matplotlib.pyplot as plt\nimport seaborn as sns\n\nsns.set(context=\"paper\", style=\"white\")\n\nmnist = fetch_mldata(\"MNIST original\")\n\nreducer = umap.UMAP(random_state=42)\nembedding = reducer.fit_transform(mnist.data)\n\nfig, ax = plt.subplots(figsize=(12, 10))\nplt.scatter(\n    embedding[:, 0], embedding[:, 1], c=mnist.target, cmap=\"Spectral\", s=0.1\n)\nplt.setp(ax, xticks=[], yticks=[])\nplt.title(\"MNIST data embedded into two dimensions by UMAP\", fontsize=18)\n\nplt.show()"
      ]
    }
  ],
  "metadata": {
    "kernelspec": {
      "display_name": "Python 3",
      "language": "python",
      "name": "python3"
    },
    "language_info": {
      "codemirror_mode": {
        "name": "ipython",
        "version": 3
      },
      "file_extension": ".py",
      "mimetype": "text/x-python",
      "name": "python",
      "nbconvert_exporter": "python",
      "pygments_lexer": "ipython3",
      "version": "3.6.4"
    }
  },
  "nbformat": 4,
  "nbformat_minor": 0
}